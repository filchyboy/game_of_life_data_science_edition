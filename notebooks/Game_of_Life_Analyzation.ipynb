{
  "nbformat": 4,
  "nbformat_minor": 0,
  "metadata": {
    "colab": {
      "name": "Game of Life Analyzation",
      "provenance": [],
      "collapsed_sections": []
    },
    "kernelspec": {
      "name": "python3",
      "display_name": "Python 3"
    }
  },
  "cells": [
    {
      "cell_type": "code",
      "metadata": {
        "id": "6nCm9fos7UAj"
      },
      "source": [
        "import numpy as np\n",
        "import math\n",
        "from numpy.random import seed\n",
        "from numpy.random import randint"
      ],
      "execution_count": 45,
      "outputs": []
    },
    {
      "cell_type": "code",
      "metadata": {
        "id": "0LRgT7407hWD"
      },
      "source": [
        "seed(1)\n",
        "length = 20"
      ],
      "execution_count": 46,
      "outputs": []
    },
    {
      "cell_type": "code",
      "metadata": {
        "id": "Jp0qJExU7q7F"
      },
      "source": [
        "grid_values = randint(0, 2, length)"
      ],
      "execution_count": 47,
      "outputs": []
    },
    {
      "cell_type": "code",
      "metadata": {
        "id": "n0yGvFt17wVQ"
      },
      "source": [
        "dimension = math.sqrt(length)\n",
        "side = int(length//dimension)"
      ],
      "execution_count": 48,
      "outputs": []
    },
    {
      "cell_type": "code",
      "metadata": {
        "id": "D8GH4W6jSLwJ"
      },
      "source": [
        "class Cell:\n",
        "    def __init__(self, awake=None, cell_x=None, cell_y=None):\n",
        "        self.awake = awake\n",
        "        self.cell_x = cell_x\n",
        "        self.cell_y = cell_y"
      ],
      "execution_count": 49,
      "outputs": []
    },
    {
      "cell_type": "code",
      "metadata": {
        "id": "eYQGLgUINsQ7"
      },
      "source": [
        "cell_x = 0\n",
        "cell_y = 0\n",
        "list_length = len(grid_values)"
      ],
      "execution_count": 50,
      "outputs": []
    },
    {
      "cell_type": "code",
      "metadata": {
        "id": "GyBRhzqbw5rp",
        "outputId": "9bb490d7-a240-4c8b-824e-8f69adbe4d3a",
        "colab": {
          "base_uri": "https://localhost:8080/",
          "height": 68
        }
      },
      "source": [
        "print(grid_values)\n",
        "print(list_length)\n",
        "print(side)"
      ],
      "execution_count": 51,
      "outputs": [
        {
          "output_type": "stream",
          "text": [
            "[1 1 0 0 1 1 1 1 1 0 0 1 0 1 1 0 0 1 0 0]\n",
            "20\n",
            "4\n"
          ],
          "name": "stdout"
        }
      ]
    },
    {
      "cell_type": "code",
      "metadata": {
        "id": "UqHuodlDGSGn",
        "outputId": "1b214ec7-0e28-4cf4-d1c4-73eb91169f69",
        "colab": {
          "base_uri": "https://localhost:8080/",
          "height": 357
        }
      },
      "source": [
        "for i in range(list_length):\n",
        "    node = Cell(grid_values[i], cell_x + i % side, cell_y - i//side)\n",
        "    print(grid_values[i], cell_x + i % side, cell_y - i//side)"
      ],
      "execution_count": 52,
      "outputs": [
        {
          "output_type": "stream",
          "text": [
            "1 0 0\n",
            "1 1 0\n",
            "0 2 0\n",
            "0 3 0\n",
            "1 0 -1\n",
            "1 1 -1\n",
            "1 2 -1\n",
            "1 3 -1\n",
            "1 0 -2\n",
            "0 1 -2\n",
            "0 2 -2\n",
            "1 3 -2\n",
            "0 0 -3\n",
            "1 1 -3\n",
            "1 2 -3\n",
            "0 3 -3\n",
            "0 0 -4\n",
            "1 1 -4\n",
            "0 2 -4\n",
            "0 3 -4\n"
          ],
          "name": "stdout"
        }
      ]
    },
    {
      "cell_type": "code",
      "metadata": {
        "id": "FmWBoQLcohfW",
        "outputId": "b159798d-f34e-4ec5-8230-f145a72e04b0",
        "colab": {
          "base_uri": "https://localhost:8080/",
          "height": 34
        }
      },
      "source": [
        "print(node.awake, node.cell_x, node.cell_y)"
      ],
      "execution_count": 53,
      "outputs": [
        {
          "output_type": "stream",
          "text": [
            "0 3 -4\n"
          ],
          "name": "stdout"
        }
      ]
    },
    {
      "cell_type": "code",
      "metadata": {
        "id": "hlhaHFBE2_RZ"
      },
      "source": [
        ""
      ],
      "execution_count": 53,
      "outputs": []
    }
  ]
}